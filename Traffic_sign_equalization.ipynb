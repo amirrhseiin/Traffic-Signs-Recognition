{
  "nbformat": 4,
  "nbformat_minor": 0,
  "metadata": {
    "kernelspec": {
      "display_name": "Python [conda env:first_pro] *",
      "language": "python",
      "name": "conda-env-first_pro-py"
    },
    "language_info": {
      "codemirror_mode": {
        "name": "ipython",
        "version": 3
      },
      "file_extension": ".py",
      "mimetype": "text/x-python",
      "name": "python",
      "nbconvert_exporter": "python",
      "pygments_lexer": "ipython3",
      "version": "3.7.9"
    },
    "colab": {
      "name": "Traffic_sign_equalization.ipynb",
      "provenance": [],
      "collapsed_sections": [],
      "include_colab_link": true
    }
  },
  "cells": [
    {
      "cell_type": "markdown",
      "metadata": {
        "id": "view-in-github",
        "colab_type": "text"
      },
      "source": [
        "<a href=\"https://colab.research.google.com/github/amirrhseiin/Traffic-Signs-Recognition/blob/main/Traffic_sign_equalization.ipynb\" target=\"_parent\"><img src=\"https://colab.research.google.com/assets/colab-badge.svg\" alt=\"Open In Colab\"/></a>"
      ]
    },
    {
      "cell_type": "code",
      "metadata": {
        "id": "h6vVRZ7SxEjB"
      },
      "source": [
        "import pandas as pd\n",
        "import cv2\n",
        "import numpy as np\n",
        "import csv\n",
        "#from skimage import exposure\n",
        "import matplotlib.pyplot as plt\n",
        "from keras.layers import Conv2D, MaxPooling2D,AveragePooling2D, Flatten, Dense, Dropout, Activation , Concatenate, Input , BatchNormalization\n",
        "from keras.optimizers import SGD\n",
        "from keras import Model\n",
        "from keras.models import load_model\n",
        "from keras.utils import to_categorical, plot_model\n",
        "from keras.callbacks import ModelCheckpoint, EarlyStopping\n",
        "from keras.preprocessing.image import ImageDataGenerator\n",
        "from imblearn.under_sampling import RandomUnderSampler\n",
        "import random\n",
        "from keras.callbacks import ReduceLROnPlateau\n",
        "%matplotlib inline"
      ],
      "execution_count": null,
      "outputs": []
    },
    {
      "cell_type": "code",
      "metadata": {
        "id": "qfWSwNBJxEjU",
        "outputId": "65896fe2-b139-49fe-e6f6-1896bc7a2105"
      },
      "source": [
        "train_data = pd.read_pickle(r'C:\\Users\\Admin\\Desktop\\jupyter projects\\data1\\train.pickle')\n",
        "test_data= pd.read_pickle(r'C:\\Users\\Admin\\Desktop\\jupyter projects\\data1\\test.pickle')\n",
        "valid_data= pd.read_pickle(r'C:\\Users\\Admin\\Desktop\\jupyter projects\\data1\\valid.pickle')\n",
        "\n",
        "Y_train= train_data['labels']\n",
        "X_train= train_data['features']\n",
        "Y_train=to_categorical(Y_train)\n",
        "\n",
        "Y_valid= valid_data['labels']\n",
        "X_valid= valid_data['features']\n",
        "Y_valid=to_categorical(Y_valid)\n",
        "\n",
        "Y_test= test_data['labels']\n",
        "X_test= test_data['features']\n",
        "\n",
        "\n",
        "Y_train.astype('uint8')\n",
        "Y_valid.astype('uint8')\n",
        "Y_test.astype('uint8')\n"
      ],
      "execution_count": null,
      "outputs": [
        {
          "output_type": "execute_result",
          "data": {
            "text/plain": [
              "array([16,  1, 38, ...,  6,  7, 10], dtype=uint8)"
            ]
          },
          "metadata": {
            "tags": []
          },
          "execution_count": 2
        }
      ]
    },
    {
      "cell_type": "code",
      "metadata": {
        "id": "DKpslP9uxEje",
        "outputId": "84281429-9dc5-45cc-a5f9-6e9a6593333b"
      },
      "source": [
        "img=X_train[278]\n",
        "plt.imshow(img)"
      ],
      "execution_count": null,
      "outputs": [
        {
          "output_type": "execute_result",
          "data": {
            "text/plain": [
              "<matplotlib.image.AxesImage at 0x1f81bdb43c8>"
            ]
          },
          "metadata": {
            "tags": []
          },
          "execution_count": 22
        },
        {
          "output_type": "display_data",
          "data": {
            "image/png": "[encoded data removed]",
            "text/plain": [
              "<Figure size 432x288 with 1 Axes>"
            ]
          },
          "metadata": {
            "tags": [],
            "needs_background": "light"
          }
        }
      ]
    },
    {
      "cell_type": "code",
      "metadata": {
        "id": "O53Z7Hs7xEjh",
        "outputId": "67d8a0a6-d4cb-4a9a-cd45-a6e652001134"
      },
      "source": [
        "hist,bins = np.histogram(img.flatten(),256,[0,256])\n",
        "\n",
        "cdf = hist.cumsum()\n",
        "cdf_normalized = cdf * hist.max()/ cdf.max()\n",
        "\n",
        "plt.plot(cdf_normalized, color = 'b')\n",
        "plt.hist(img.flatten(),256,[0,256], color = 'r')\n",
        "plt.xlim([0,256])\n",
        "plt.legend(('cdf','histogram'), loc = 'upper left')\n",
        "plt.show()"
      ],
      "execution_count": null,
      "outputs": [
        {
          "output_type": "display_data",
          "data": {
            "image/png": "[encoded data removed]",
            "text/plain": [
              "<Figure size 432x288 with 1 Axes>"
            ]
          },
          "metadata": {
            "tags": [],
            "needs_background": "light"
          }
        }
      ]
    },
    {
      "cell_type": "code",
      "metadata": {
        "id": "2sNowKiWxEjl",
        "outputId": "a08bb67b-160e-4e47-dcc6-9eee8dcc8e7a"
      },
      "source": [
        "img=X_train[10899]\n",
        "clache= cv2.createCLAHE(clipLimit=2.0,tileGridSize=(8,8))\n",
        "r, g, b=cv2.split(img)\n",
        "r_channel= clache.apply(np.uint8(r))\n",
        "g_channel= clache.apply(np.uint8(g))\n",
        "b_channel= clache.apply(np.uint8(b))\n",
        "equ=cv2.merge((r_channel,g_channel,b_channel))\n",
        "equ.shape\n"
      ],
      "execution_count": null,
      "outputs": [
        {
          "output_type": "execute_result",
          "data": {
            "text/plain": [
              "(32, 32, 3)"
            ]
          },
          "metadata": {
            "tags": []
          },
          "execution_count": 14
        }
      ]
    },
    {
      "cell_type": "code",
      "metadata": {
        "id": "YMKHZbohxEjo",
        "outputId": "e3d92246-43aa-499c-ef93-c2966109623a"
      },
      "source": [
        "plt.imshow(equ)"
      ],
      "execution_count": null,
      "outputs": [
        {
          "output_type": "execute_result",
          "data": {
            "text/plain": [
              "<matplotlib.image.AxesImage at 0x1f81a8ce588>"
            ]
          },
          "metadata": {
            "tags": []
          },
          "execution_count": 15
        },
        {
          "output_type": "display_data",
          "data": {
            "image/png": "[encoded data removed]",
            "text/plain": [
              "<Figure size 432x288 with 1 Axes>"
            ]
          },
          "metadata": {
            "tags": [],
            "needs_background": "light"
          }
        }
      ]
    },
    {
      "cell_type": "code",
      "metadata": {
        "id": "L52XJAnFxEjs",
        "outputId": "5bdb6e36-cee9-4fb0-c71d-6de2c6f8314b"
      },
      "source": [
        "hist,bins = np.histogram(equ.flatten(),256,[0,256])\n",
        "\n",
        "cdf = hist.cumsum()\n",
        "cdf_normalized = cdf * hist.max()/ cdf.max()\n",
        "\n",
        "plt.plot(cdf_normalized, color = 'b')\n",
        "plt.hist(equ.flatten(),256,[0,256], color = 'r')\n",
        "plt.xlim([0,256])\n",
        "plt.legend(('cdf','histogram'), loc = 'upper left')\n",
        "plt.show()"
      ],
      "execution_count": null,
      "outputs": [
        {
          "output_type": "display_data",
          "data": {
            "image/png": "[encoded data removed]",
            "text/plain": [
              "<Figure size 432x288 with 1 Axes>"
            ]
          },
          "metadata": {
            "tags": [],
            "needs_background": "light"
          }
        }
      ]
    },
    {
      "cell_type": "code",
      "metadata": {
        "id": "rOQMW9DZxEju"
      },
      "source": [
        ""
      ],
      "execution_count": null,
      "outputs": []
    }
  ]
}